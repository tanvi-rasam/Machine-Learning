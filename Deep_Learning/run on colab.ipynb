{
  "nbformat": 4,
  "nbformat_minor": 0,
  "metadata": {
    "kernelspec": {
      "display_name": "Python 3",
      "language": "python",
      "name": "python3"
    },
    "language_info": {
      "codemirror_mode": {
        "name": "ipython",
        "version": 3
      },
      "file_extension": ".py",
      "mimetype": "text/x-python",
      "name": "python",
      "nbconvert_exporter": "python",
      "pygments_lexer": "ipython3",
      "version": "3.7.3"
    },
    "colab": {
      "name": "Untitled30.ipynb",
      "provenance": []
    }
  },
  "cells": [
    {
      "cell_type": "markdown",
      "metadata": {
        "id": "EIqes_HKcDVM",
        "colab_type": "text"
      },
      "source": [
        "# Assignment #5 - Deep Learning (Extra Credits)\n",
        "\n",
        "## Tanvi Rasam\n"
      ]
    },
    {
      "cell_type": "markdown",
      "metadata": {
        "id": "PsWdq6rYcDVN",
        "colab_type": "text"
      },
      "source": [
        "# I. Overview\n",
        "\n",
        "The aim of this assignment is to apply Deep Learning on the classification dataset used in assignment #0. In assignment-3 we used Neural network for this classifiction dataset. A deep neural network is also a neural network with a certain level of complexity, a neural network with more than two layers. Deep neural networks use sophisticated mathematical modeling to process data in complex ways. This means the accuracy should be better than that achieved by the Neural Networks. But this depends on a lot of factors like - no. of hidden layers, activation function, optimizer chosen and also the no. of nodes. If this is not done properly the model may overfit. \n",
        "To implement Deep Neural Networks I have used Keras. As, the accuracy of prediction highly depends upon the structure and parameters choosen, in this assignment the dataset is modeled on 3 different sequential structures to find out which works best.\n",
        "\n"
      ]
    },
    {
      "cell_type": "markdown",
      "metadata": {
        "id": "9J4AV8c6cDVO",
        "colab_type": "text"
      },
      "source": [
        "# II Data\n",
        "\n",
        "1.1 Description of the Dataset\n",
        "\n",
        "Census is an enumeration of the members of a given population, which takes place once a decade in the entire country. The census data is very valuable since it provides critical insights in econimical,social, housing and education domain. Adult dataset is an aggregation of different country's censuses.This dataset is derived from the 1994 Census bureau database by Ronny Kohavi and Barry Becker (Data Mining and Visualization, Silicon Graphics). It is a multivariate dataset containing 32560 instances and 15 attributes. Dataset is constructed by satisfyting the following condition : Age> 16, Adjusted-Gross-Income> 100, Final weight (fnlwgt)> 1 and hrs/week > 0.\n",
        " \n",
        "Goal:  To predict whether the income would be >$50K/yr or <=$50K/yr \n",
        "\n",
        "1.2 Description of the Data\n",
        "\n",
        " 1.2.1 Categorical Attributes\n",
        "     \n",
        "     workclass: which sector the individual is working\n",
        "                values:Private, Self-emp-not-inc, Self-emp-inc, Federal-gov, Local-gov, State-gov, Without-pay, Never-worked.\n",
        "     education: Individual's highest level of education\n",
        "                values:Bachelors, Some-college, 11th, HS-grad, Prof-school, Assoc-acdm, Assoc-voc, 9th, 7th-8th, 12th, Masters ,1st-4th, 10th, Doctorate, 5th-6th, Preschool\n",
        "     marital-status: Individual marital status\n",
        "                     values:Married-civ-spouse, Divorced, Never-married, Separated, Widowed, Married-spouse-absent,  Married-AF-spouse.\n",
        "     occupation: What job individual does\n",
        "                 values:Tech-support, Craft-repair, Other-service, Sales, Exec-managerial, Prof-specialty, Handlers-cleaners,  Machine-op-inspct, Adm-clerical, Farming-fishing, Transport-moving, Priv-house-serv, Protective-serv,                           Armed-Forces.              \n",
        "     relationship: Individual's relation in a family\n",
        "                   values: Wife, Own-child, Husband, Not-in-family, Other-relative, Unmarried.\n",
        "     race: Individual's Race \n",
        "           values: White, Asian-Pac-Islander, Amer-Indian-Eskimo, Other, Black.\n",
        "     sex: Gender\n",
        "          values: Female, Male.\n",
        "     native-country: where individual belongs to \n",
        "                     values: United-States, Cambodia, England, Puerto-Rico, Canada, Germany, Outlying-US(Guam-USVI-etc), India,   Japan, Greece, South, China, Cuba, Iran, Honduras, Philippines, Italy, Poland, Jamaica, Vietnam,                                Mexico, Portugal, Ireland, France, Dominican-Republic, Laos, Ecuador, Taiwan, Haiti, Columbia, Hungary, Guatemala, Nicaragua, Scotland, Thailand, Yugoslavia, El-Salvador, Trinadad&Tobago, Peru, Hong, Holand-Netherlands.\n",
        "\n",
        " 1.2.2 Continuous Attributes\n",
        "\n",
        "    age: Individual's age\n",
        "         value :continuous.\n",
        "    education-num: Individual's number of years of education\n",
        "                   value: continuous\n",
        "    fnlwgt: final weight ie. the number of units in the target population that the responding unit represents\n",
        "            value :continuous           \n",
        "    capital-gain: Individual's gain in income through other investments\n",
        "                  values: continuous\n",
        "    capital-loss: Individual's loss in income through other investments\n",
        "                  values: continuous\n",
        "    hours-per-week: hrs worked by individual per week\n",
        "                    values: continuous.\n"
      ]
    },
    {
      "cell_type": "markdown",
      "metadata": {
        "id": "eJcqAtORcDVO",
        "colab_type": "text"
      },
      "source": [
        "1.3 Source: UCI Machine Learning Repository :https://archive.ics.uci.edu/ml/datasets/Adult\n",
        "\n",
        "Reading the Data \n",
        "\n",
        "2.1 Importing the required packages for the Assignment"
      ]
    },
    {
      "cell_type": "code",
      "metadata": {
        "id": "v-CyWZUfcDVP",
        "colab_type": "code",
        "colab": {}
      },
      "source": [
        "import time\n",
        "start_time = time.time()"
      ],
      "execution_count": 0,
      "outputs": []
    },
    {
      "cell_type": "code",
      "metadata": {
        "id": "1uSsfyGJcDVR",
        "colab_type": "code",
        "colab": {}
      },
      "source": [
        "import pandas as pd # storing and mnipulating the dataset\n",
        "import matplotlib.pyplot as plt # for data visualization \n",
        "import seaborn as sns # for data visualization \n",
        "import warnings  \n",
        "import pylab as pl\n",
        "import pdb\n",
        "warnings.filterwarnings(\"ignore\") # to not display any warnings generated \n",
        "import numpy as np # for array computations\n",
        "from sklearn.preprocessing import StandardScaler"
      ],
      "execution_count": 0,
      "outputs": []
    },
    {
      "cell_type": "code",
      "metadata": {
        "id": "6yHqSXaNcDVT",
        "colab_type": "code",
        "colab": {}
      },
      "source": [
        "import keras\n"
      ],
      "execution_count": 0,
      "outputs": []
    },
    {
      "cell_type": "code",
      "metadata": {
        "id": "iL79Pui3cc8E",
        "colab_type": "code",
        "colab": {
          "base_uri": "https://localhost:8080/",
          "height": 344
        },
        "outputId": "a31687ad-2ae7-4a59-d7cf-c77dfbc32539"
      },
      "source": [
        "from google.colab import files\n",
        "uploaded = files.upload()"
      ],
      "execution_count": 44,
      "outputs": [
        {
          "output_type": "display_data",
          "data": {
            "text/html": [
              "\n",
              "     <input type=\"file\" id=\"files-702a3a09-e9f0-4acf-8ffe-344097873e74\" name=\"files[]\" multiple disabled />\n",
              "     <output id=\"result-702a3a09-e9f0-4acf-8ffe-344097873e74\">\n",
              "      Upload widget is only available when the cell has been executed in the\n",
              "      current browser session. Please rerun this cell to enable.\n",
              "      </output>\n",
              "      <script src=\"/nbextensions/google.colab/files.js\"></script> "
            ],
            "text/plain": [
              "<IPython.core.display.HTML object>"
            ]
          },
          "metadata": {
            "tags": []
          }
        },
        {
          "output_type": "error",
          "ename": "MessageError",
          "evalue": "ignored",
          "traceback": [
            "\u001b[0;31m---------------------------------------------------------------------------\u001b[0m",
            "\u001b[0;31mMessageError\u001b[0m                              Traceback (most recent call last)",
            "\u001b[0;32m<ipython-input-44-21dc3c638f66>\u001b[0m in \u001b[0;36m<module>\u001b[0;34m()\u001b[0m\n\u001b[1;32m      1\u001b[0m \u001b[0;32mfrom\u001b[0m \u001b[0mgoogle\u001b[0m\u001b[0;34m.\u001b[0m\u001b[0mcolab\u001b[0m \u001b[0;32mimport\u001b[0m \u001b[0mfiles\u001b[0m\u001b[0;34m\u001b[0m\u001b[0;34m\u001b[0m\u001b[0m\n\u001b[0;32m----> 2\u001b[0;31m \u001b[0muploaded\u001b[0m \u001b[0;34m=\u001b[0m \u001b[0mfiles\u001b[0m\u001b[0;34m.\u001b[0m\u001b[0mupload\u001b[0m\u001b[0;34m(\u001b[0m\u001b[0;34m)\u001b[0m\u001b[0;34m\u001b[0m\u001b[0;34m\u001b[0m\u001b[0m\n\u001b[0m",
            "\u001b[0;32m/usr/local/lib/python3.6/dist-packages/google/colab/files.py\u001b[0m in \u001b[0;36mupload\u001b[0;34m()\u001b[0m\n\u001b[1;32m     62\u001b[0m   result = _output.eval_js(\n\u001b[1;32m     63\u001b[0m       'google.colab._files._uploadFiles(\"{input_id}\", \"{output_id}\")'.format(\n\u001b[0;32m---> 64\u001b[0;31m           input_id=input_id, output_id=output_id))\n\u001b[0m\u001b[1;32m     65\u001b[0m   \u001b[0mfiles\u001b[0m \u001b[0;34m=\u001b[0m \u001b[0m_collections\u001b[0m\u001b[0;34m.\u001b[0m\u001b[0mdefaultdict\u001b[0m\u001b[0;34m(\u001b[0m\u001b[0m_six\u001b[0m\u001b[0;34m.\u001b[0m\u001b[0mbinary_type\u001b[0m\u001b[0;34m)\u001b[0m\u001b[0;34m\u001b[0m\u001b[0;34m\u001b[0m\u001b[0m\n\u001b[1;32m     66\u001b[0m   \u001b[0;31m# Mapping from original filename to filename as saved locally.\u001b[0m\u001b[0;34m\u001b[0m\u001b[0;34m\u001b[0m\u001b[0;34m\u001b[0m\u001b[0m\n",
            "\u001b[0;32m/usr/local/lib/python3.6/dist-packages/google/colab/output/_js.py\u001b[0m in \u001b[0;36meval_js\u001b[0;34m(script, ignore_result)\u001b[0m\n\u001b[1;32m     37\u001b[0m   \u001b[0;32mif\u001b[0m \u001b[0mignore_result\u001b[0m\u001b[0;34m:\u001b[0m\u001b[0;34m\u001b[0m\u001b[0;34m\u001b[0m\u001b[0m\n\u001b[1;32m     38\u001b[0m     \u001b[0;32mreturn\u001b[0m\u001b[0;34m\u001b[0m\u001b[0;34m\u001b[0m\u001b[0m\n\u001b[0;32m---> 39\u001b[0;31m   \u001b[0;32mreturn\u001b[0m \u001b[0m_message\u001b[0m\u001b[0;34m.\u001b[0m\u001b[0mread_reply_from_input\u001b[0m\u001b[0;34m(\u001b[0m\u001b[0mrequest_id\u001b[0m\u001b[0;34m)\u001b[0m\u001b[0;34m\u001b[0m\u001b[0;34m\u001b[0m\u001b[0m\n\u001b[0m\u001b[1;32m     40\u001b[0m \u001b[0;34m\u001b[0m\u001b[0m\n\u001b[1;32m     41\u001b[0m \u001b[0;34m\u001b[0m\u001b[0m\n",
            "\u001b[0;32m/usr/local/lib/python3.6/dist-packages/google/colab/_message.py\u001b[0m in \u001b[0;36mread_reply_from_input\u001b[0;34m(message_id, timeout_sec)\u001b[0m\n\u001b[1;32m    104\u001b[0m         reply.get('colab_msg_id') == message_id):\n\u001b[1;32m    105\u001b[0m       \u001b[0;32mif\u001b[0m \u001b[0;34m'error'\u001b[0m \u001b[0;32min\u001b[0m \u001b[0mreply\u001b[0m\u001b[0;34m:\u001b[0m\u001b[0;34m\u001b[0m\u001b[0;34m\u001b[0m\u001b[0m\n\u001b[0;32m--> 106\u001b[0;31m         \u001b[0;32mraise\u001b[0m \u001b[0mMessageError\u001b[0m\u001b[0;34m(\u001b[0m\u001b[0mreply\u001b[0m\u001b[0;34m[\u001b[0m\u001b[0;34m'error'\u001b[0m\u001b[0;34m]\u001b[0m\u001b[0;34m)\u001b[0m\u001b[0;34m\u001b[0m\u001b[0;34m\u001b[0m\u001b[0m\n\u001b[0m\u001b[1;32m    107\u001b[0m       \u001b[0;32mreturn\u001b[0m \u001b[0mreply\u001b[0m\u001b[0;34m.\u001b[0m\u001b[0mget\u001b[0m\u001b[0;34m(\u001b[0m\u001b[0;34m'data'\u001b[0m\u001b[0;34m,\u001b[0m \u001b[0;32mNone\u001b[0m\u001b[0;34m)\u001b[0m\u001b[0;34m\u001b[0m\u001b[0;34m\u001b[0m\u001b[0m\n\u001b[1;32m    108\u001b[0m \u001b[0;34m\u001b[0m\u001b[0m\n",
            "\u001b[0;31mMessageError\u001b[0m: TypeError: Cannot read property '_uploadFiles' of undefined"
          ]
        }
      ]
    },
    {
      "cell_type": "code",
      "metadata": {
        "id": "4tT2EJJjcwgw",
        "colab_type": "code",
        "colab": {}
      },
      "source": [
        "import io\n",
        "df_assg1 = pd.read_csv(io.BytesIO(uploaded['adult.csv']))"
      ],
      "execution_count": 0,
      "outputs": []
    },
    {
      "cell_type": "code",
      "metadata": {
        "id": "9gQyVV7lcDVU",
        "colab_type": "code",
        "colab": {
          "base_uri": "https://localhost:8080/",
          "height": 195
        },
        "outputId": "0e8c63e7-6297-417d-a9aa-a5f2f006d3b8"
      },
      "source": [
        "#df_assg1= pd.read_csv('adult.csv') #df_assg1 holds the dataset\n",
        "df_assg1.head() #displacing the first 5 records"
      ],
      "execution_count": 49,
      "outputs": [
        {
          "output_type": "execute_result",
          "data": {
            "text/html": [
              "<div>\n",
              "<style scoped>\n",
              "    .dataframe tbody tr th:only-of-type {\n",
              "        vertical-align: middle;\n",
              "    }\n",
              "\n",
              "    .dataframe tbody tr th {\n",
              "        vertical-align: top;\n",
              "    }\n",
              "\n",
              "    .dataframe thead th {\n",
              "        text-align: right;\n",
              "    }\n",
              "</style>\n",
              "<table border=\"1\" class=\"dataframe\">\n",
              "  <thead>\n",
              "    <tr style=\"text-align: right;\">\n",
              "      <th></th>\n",
              "      <th>39</th>\n",
              "      <th>State-gov</th>\n",
              "      <th>77516</th>\n",
              "      <th>Bachelors</th>\n",
              "      <th>13</th>\n",
              "      <th>Never-married</th>\n",
              "      <th>Adm-clerical</th>\n",
              "      <th>Not-in-family</th>\n",
              "      <th>White</th>\n",
              "      <th>Male</th>\n",
              "      <th>2174</th>\n",
              "      <th>0</th>\n",
              "      <th>40</th>\n",
              "      <th>United-States</th>\n",
              "      <th>&lt;=50K</th>\n",
              "    </tr>\n",
              "  </thead>\n",
              "  <tbody>\n",
              "    <tr>\n",
              "      <th>0</th>\n",
              "      <td>50</td>\n",
              "      <td>Self-emp-not-inc</td>\n",
              "      <td>83311</td>\n",
              "      <td>Bachelors</td>\n",
              "      <td>13</td>\n",
              "      <td>Married-civ-spouse</td>\n",
              "      <td>Exec-managerial</td>\n",
              "      <td>Husband</td>\n",
              "      <td>White</td>\n",
              "      <td>Male</td>\n",
              "      <td>0</td>\n",
              "      <td>0</td>\n",
              "      <td>13</td>\n",
              "      <td>United-States</td>\n",
              "      <td>&lt;=50K</td>\n",
              "    </tr>\n",
              "    <tr>\n",
              "      <th>1</th>\n",
              "      <td>38</td>\n",
              "      <td>Private</td>\n",
              "      <td>215646</td>\n",
              "      <td>HS-grad</td>\n",
              "      <td>9</td>\n",
              "      <td>Divorced</td>\n",
              "      <td>Handlers-cleaners</td>\n",
              "      <td>Not-in-family</td>\n",
              "      <td>White</td>\n",
              "      <td>Male</td>\n",
              "      <td>0</td>\n",
              "      <td>0</td>\n",
              "      <td>40</td>\n",
              "      <td>United-States</td>\n",
              "      <td>&lt;=50K</td>\n",
              "    </tr>\n",
              "    <tr>\n",
              "      <th>2</th>\n",
              "      <td>53</td>\n",
              "      <td>Private</td>\n",
              "      <td>234721</td>\n",
              "      <td>11th</td>\n",
              "      <td>7</td>\n",
              "      <td>Married-civ-spouse</td>\n",
              "      <td>Handlers-cleaners</td>\n",
              "      <td>Husband</td>\n",
              "      <td>Black</td>\n",
              "      <td>Male</td>\n",
              "      <td>0</td>\n",
              "      <td>0</td>\n",
              "      <td>40</td>\n",
              "      <td>United-States</td>\n",
              "      <td>&lt;=50K</td>\n",
              "    </tr>\n",
              "    <tr>\n",
              "      <th>3</th>\n",
              "      <td>28</td>\n",
              "      <td>Private</td>\n",
              "      <td>338409</td>\n",
              "      <td>Bachelors</td>\n",
              "      <td>13</td>\n",
              "      <td>Married-civ-spouse</td>\n",
              "      <td>Prof-specialty</td>\n",
              "      <td>Wife</td>\n",
              "      <td>Black</td>\n",
              "      <td>Female</td>\n",
              "      <td>0</td>\n",
              "      <td>0</td>\n",
              "      <td>40</td>\n",
              "      <td>Cuba</td>\n",
              "      <td>&lt;=50K</td>\n",
              "    </tr>\n",
              "    <tr>\n",
              "      <th>4</th>\n",
              "      <td>37</td>\n",
              "      <td>Private</td>\n",
              "      <td>284582</td>\n",
              "      <td>Masters</td>\n",
              "      <td>14</td>\n",
              "      <td>Married-civ-spouse</td>\n",
              "      <td>Exec-managerial</td>\n",
              "      <td>Wife</td>\n",
              "      <td>White</td>\n",
              "      <td>Female</td>\n",
              "      <td>0</td>\n",
              "      <td>0</td>\n",
              "      <td>40</td>\n",
              "      <td>United-States</td>\n",
              "      <td>&lt;=50K</td>\n",
              "    </tr>\n",
              "  </tbody>\n",
              "</table>\n",
              "</div>"
            ],
            "text/plain": [
              "   39          State-gov   77516   Bachelors  ...   0  40   United-States   <=50K\n",
              "0  50   Self-emp-not-inc   83311   Bachelors  ...   0  13   United-States   <=50K\n",
              "1  38            Private  215646     HS-grad  ...   0  40   United-States   <=50K\n",
              "2  53            Private  234721        11th  ...   0  40   United-States   <=50K\n",
              "3  28            Private  338409   Bachelors  ...   0  40            Cuba   <=50K\n",
              "4  37            Private  284582     Masters  ...   0  40   United-States   <=50K\n",
              "\n",
              "[5 rows x 15 columns]"
            ]
          },
          "metadata": {
            "tags": []
          },
          "execution_count": 49
        }
      ]
    },
    {
      "cell_type": "code",
      "metadata": {
        "id": "weSDTCuycDVW",
        "colab_type": "code",
        "colab": {
          "base_uri": "https://localhost:8080/",
          "height": 296
        },
        "outputId": "1325328e-4aae-49eb-f0c2-b34c0fa77dc4"
      },
      "source": [
        "df_assg1.columns= ['age','workclass','fnlwgt','education','education-num','marital-status','occupation','relationship','race','sex','capital-gain','capital-loss','hours-per-week','native-country','income-per-year']\n",
        "df_assg1.head()"
      ],
      "execution_count": 50,
      "outputs": [
        {
          "output_type": "execute_result",
          "data": {
            "text/html": [
              "<div>\n",
              "<style scoped>\n",
              "    .dataframe tbody tr th:only-of-type {\n",
              "        vertical-align: middle;\n",
              "    }\n",
              "\n",
              "    .dataframe tbody tr th {\n",
              "        vertical-align: top;\n",
              "    }\n",
              "\n",
              "    .dataframe thead th {\n",
              "        text-align: right;\n",
              "    }\n",
              "</style>\n",
              "<table border=\"1\" class=\"dataframe\">\n",
              "  <thead>\n",
              "    <tr style=\"text-align: right;\">\n",
              "      <th></th>\n",
              "      <th>age</th>\n",
              "      <th>workclass</th>\n",
              "      <th>fnlwgt</th>\n",
              "      <th>education</th>\n",
              "      <th>education-num</th>\n",
              "      <th>marital-status</th>\n",
              "      <th>occupation</th>\n",
              "      <th>relationship</th>\n",
              "      <th>race</th>\n",
              "      <th>sex</th>\n",
              "      <th>capital-gain</th>\n",
              "      <th>capital-loss</th>\n",
              "      <th>hours-per-week</th>\n",
              "      <th>native-country</th>\n",
              "      <th>income-per-year</th>\n",
              "    </tr>\n",
              "  </thead>\n",
              "  <tbody>\n",
              "    <tr>\n",
              "      <th>0</th>\n",
              "      <td>50</td>\n",
              "      <td>Self-emp-not-inc</td>\n",
              "      <td>83311</td>\n",
              "      <td>Bachelors</td>\n",
              "      <td>13</td>\n",
              "      <td>Married-civ-spouse</td>\n",
              "      <td>Exec-managerial</td>\n",
              "      <td>Husband</td>\n",
              "      <td>White</td>\n",
              "      <td>Male</td>\n",
              "      <td>0</td>\n",
              "      <td>0</td>\n",
              "      <td>13</td>\n",
              "      <td>United-States</td>\n",
              "      <td>&lt;=50K</td>\n",
              "    </tr>\n",
              "    <tr>\n",
              "      <th>1</th>\n",
              "      <td>38</td>\n",
              "      <td>Private</td>\n",
              "      <td>215646</td>\n",
              "      <td>HS-grad</td>\n",
              "      <td>9</td>\n",
              "      <td>Divorced</td>\n",
              "      <td>Handlers-cleaners</td>\n",
              "      <td>Not-in-family</td>\n",
              "      <td>White</td>\n",
              "      <td>Male</td>\n",
              "      <td>0</td>\n",
              "      <td>0</td>\n",
              "      <td>40</td>\n",
              "      <td>United-States</td>\n",
              "      <td>&lt;=50K</td>\n",
              "    </tr>\n",
              "    <tr>\n",
              "      <th>2</th>\n",
              "      <td>53</td>\n",
              "      <td>Private</td>\n",
              "      <td>234721</td>\n",
              "      <td>11th</td>\n",
              "      <td>7</td>\n",
              "      <td>Married-civ-spouse</td>\n",
              "      <td>Handlers-cleaners</td>\n",
              "      <td>Husband</td>\n",
              "      <td>Black</td>\n",
              "      <td>Male</td>\n",
              "      <td>0</td>\n",
              "      <td>0</td>\n",
              "      <td>40</td>\n",
              "      <td>United-States</td>\n",
              "      <td>&lt;=50K</td>\n",
              "    </tr>\n",
              "    <tr>\n",
              "      <th>3</th>\n",
              "      <td>28</td>\n",
              "      <td>Private</td>\n",
              "      <td>338409</td>\n",
              "      <td>Bachelors</td>\n",
              "      <td>13</td>\n",
              "      <td>Married-civ-spouse</td>\n",
              "      <td>Prof-specialty</td>\n",
              "      <td>Wife</td>\n",
              "      <td>Black</td>\n",
              "      <td>Female</td>\n",
              "      <td>0</td>\n",
              "      <td>0</td>\n",
              "      <td>40</td>\n",
              "      <td>Cuba</td>\n",
              "      <td>&lt;=50K</td>\n",
              "    </tr>\n",
              "    <tr>\n",
              "      <th>4</th>\n",
              "      <td>37</td>\n",
              "      <td>Private</td>\n",
              "      <td>284582</td>\n",
              "      <td>Masters</td>\n",
              "      <td>14</td>\n",
              "      <td>Married-civ-spouse</td>\n",
              "      <td>Exec-managerial</td>\n",
              "      <td>Wife</td>\n",
              "      <td>White</td>\n",
              "      <td>Female</td>\n",
              "      <td>0</td>\n",
              "      <td>0</td>\n",
              "      <td>40</td>\n",
              "      <td>United-States</td>\n",
              "      <td>&lt;=50K</td>\n",
              "    </tr>\n",
              "  </tbody>\n",
              "</table>\n",
              "</div>"
            ],
            "text/plain": [
              "   age          workclass  ...  native-country income-per-year\n",
              "0   50   Self-emp-not-inc  ...   United-States           <=50K\n",
              "1   38            Private  ...   United-States           <=50K\n",
              "2   53            Private  ...   United-States           <=50K\n",
              "3   28            Private  ...            Cuba           <=50K\n",
              "4   37            Private  ...   United-States           <=50K\n",
              "\n",
              "[5 rows x 15 columns]"
            ]
          },
          "metadata": {
            "tags": []
          },
          "execution_count": 50
        }
      ]
    },
    {
      "cell_type": "code",
      "metadata": {
        "id": "sfNYeQvQcDVY",
        "colab_type": "code",
        "colab": {}
      },
      "source": [
        "unique_attributes, counts = np.unique(df_assg1['workclass'], return_counts = True) # collecting unique attributes and their frequency\n",
        "most_freq_attribute = unique_attributes[np.argmax(counts, axis = 0)] # calculating the maximum ie. frequent one\n",
        "df_assg1['workclass'][df_assg1['workclass'] == ' ?'] = most_freq_attribute\n",
        "\n",
        "unique_attributes, counts = np.unique(df_assg1['occupation'], return_counts = True)\n",
        "most_freq_attribute = unique_attributes[np.argmax(counts, axis = 0)] # calculating the maximum ie. frequent one\n",
        "df_assg1['occupation'][df_assg1['occupation'] == ' ?'] = most_freq_attribute\n",
        "\n",
        "unique_attributes, counts = np.unique(df_assg1['education'], return_counts = True)\n",
        "most_freq_attribute = unique_attributes[np.argmax(counts, axis = 0)] # calculating the maximum ie. frequent one\n",
        "df_assg1['education'][df_assg1['education'] == ' ?'] = most_freq_attribute\n",
        "\n",
        "unique_attributes, counts = np.unique(df_assg1['marital-status'], return_counts = True)\n",
        "most_freq_attribute = unique_attributes[np.argmax(counts, axis = 0)] # calculating the maximum ie. frequent one\n",
        "df_assg1['marital-status'][df_assg1['marital-status'] == ' ?'] = most_freq_attribute\n",
        "\n",
        "unique_attributes, counts = np.unique(df_assg1['relationship'], return_counts = True)\n",
        "most_freq_attribute = unique_attributes[np.argmax(counts, axis = 0)] # calculating the maximum ie. frequent one\n",
        "df_assg1['relationship'][df_assg1['relationship'] == ' ?'] = most_freq_attribute\n",
        "\n",
        "unique_attributes, counts = np.unique(df_assg1['age'], return_counts = True)\n",
        "most_freq_attribute = unique_attributes[np.argmax(counts, axis = 0)] # calculating the maximum ie. frequent one\n",
        "df_assg1['age'][df_assg1['age'] == ' ?'] = most_freq_attribute\n",
        "\n",
        "unique_attributes, counts = np.unique(df_assg1['race'], return_counts = True)\n",
        "most_freq_attribute = unique_attributes[np.argmax(counts, axis = 0)] # calculating the maximum ie. frequent one\n",
        "df_assg1['race'][df_assg1['race'] == ' ?'] = most_freq_attribute\n",
        "\n",
        "unique_attributes, counts = np.unique(df_assg1['sex'], return_counts = True)\n",
        "most_freq_attribute = unique_attributes[np.argmax(counts, axis = 0)] # calculating the maximum ie. frequent one\n",
        "df_assg1['sex'][df_assg1['sex'] == ' ?'] = most_freq_attribute\n",
        "\n",
        "unique_attributes, counts = np.unique(df_assg1['hours-per-week'], return_counts = True)\n",
        "most_freq_attribute = unique_attributes[np.argmax(counts, axis = 0)] # calculating the maximum ie. frequent one\n",
        "df_assg1['hours-per-week'][df_assg1['hours-per-week'] == ' ?'] = most_freq_attribute\n",
        "\n",
        "unique_attributes, counts = np.unique(df_assg1['native-country'], return_counts = True)\n",
        "most_freq_attribute = unique_attributes[np.argmax(counts, axis = 0)] # calculating the maximum ie. frequent one\n",
        "df_assg1['native-country'][df_assg1['native-country'] == ' ?'] = most_freq_attribute\n",
        "\n",
        "unique_attributes, counts = np.unique(df_assg1['income-per-year'], return_counts = True)\n",
        "most_freq_attribute = unique_attributes[np.argmax(counts, axis = 0)] # calculating the maximum ie. frequent one\n",
        "df_assg1['income-per-year'][df_assg1['income-per-year'] == ' ?'] = most_freq_attribute\n",
        "\n",
        "\n",
        "\n",
        "\n",
        "\n"
      ],
      "execution_count": 0,
      "outputs": []
    },
    {
      "cell_type": "code",
      "metadata": {
        "id": "sJ98FfricDVa",
        "colab_type": "code",
        "colab": {
          "base_uri": "https://localhost:8080/",
          "height": 296
        },
        "outputId": "53a2d21b-caf4-4063-b0fc-b995a0282881"
      },
      "source": [
        "df_assg1['income-per-year'].replace(' >50K' ,1, inplace=True )\n",
        "df_assg1['income-per-year'].replace(' <=50K' ,0, inplace=True )\n",
        "df_assg1.head()"
      ],
      "execution_count": 52,
      "outputs": [
        {
          "output_type": "execute_result",
          "data": {
            "text/html": [
              "<div>\n",
              "<style scoped>\n",
              "    .dataframe tbody tr th:only-of-type {\n",
              "        vertical-align: middle;\n",
              "    }\n",
              "\n",
              "    .dataframe tbody tr th {\n",
              "        vertical-align: top;\n",
              "    }\n",
              "\n",
              "    .dataframe thead th {\n",
              "        text-align: right;\n",
              "    }\n",
              "</style>\n",
              "<table border=\"1\" class=\"dataframe\">\n",
              "  <thead>\n",
              "    <tr style=\"text-align: right;\">\n",
              "      <th></th>\n",
              "      <th>age</th>\n",
              "      <th>workclass</th>\n",
              "      <th>fnlwgt</th>\n",
              "      <th>education</th>\n",
              "      <th>education-num</th>\n",
              "      <th>marital-status</th>\n",
              "      <th>occupation</th>\n",
              "      <th>relationship</th>\n",
              "      <th>race</th>\n",
              "      <th>sex</th>\n",
              "      <th>capital-gain</th>\n",
              "      <th>capital-loss</th>\n",
              "      <th>hours-per-week</th>\n",
              "      <th>native-country</th>\n",
              "      <th>income-per-year</th>\n",
              "    </tr>\n",
              "  </thead>\n",
              "  <tbody>\n",
              "    <tr>\n",
              "      <th>0</th>\n",
              "      <td>50</td>\n",
              "      <td>Self-emp-not-inc</td>\n",
              "      <td>83311</td>\n",
              "      <td>Bachelors</td>\n",
              "      <td>13</td>\n",
              "      <td>Married-civ-spouse</td>\n",
              "      <td>Exec-managerial</td>\n",
              "      <td>Husband</td>\n",
              "      <td>White</td>\n",
              "      <td>Male</td>\n",
              "      <td>0</td>\n",
              "      <td>0</td>\n",
              "      <td>13</td>\n",
              "      <td>United-States</td>\n",
              "      <td>0</td>\n",
              "    </tr>\n",
              "    <tr>\n",
              "      <th>1</th>\n",
              "      <td>38</td>\n",
              "      <td>Private</td>\n",
              "      <td>215646</td>\n",
              "      <td>HS-grad</td>\n",
              "      <td>9</td>\n",
              "      <td>Divorced</td>\n",
              "      <td>Handlers-cleaners</td>\n",
              "      <td>Not-in-family</td>\n",
              "      <td>White</td>\n",
              "      <td>Male</td>\n",
              "      <td>0</td>\n",
              "      <td>0</td>\n",
              "      <td>40</td>\n",
              "      <td>United-States</td>\n",
              "      <td>0</td>\n",
              "    </tr>\n",
              "    <tr>\n",
              "      <th>2</th>\n",
              "      <td>53</td>\n",
              "      <td>Private</td>\n",
              "      <td>234721</td>\n",
              "      <td>11th</td>\n",
              "      <td>7</td>\n",
              "      <td>Married-civ-spouse</td>\n",
              "      <td>Handlers-cleaners</td>\n",
              "      <td>Husband</td>\n",
              "      <td>Black</td>\n",
              "      <td>Male</td>\n",
              "      <td>0</td>\n",
              "      <td>0</td>\n",
              "      <td>40</td>\n",
              "      <td>United-States</td>\n",
              "      <td>0</td>\n",
              "    </tr>\n",
              "    <tr>\n",
              "      <th>3</th>\n",
              "      <td>28</td>\n",
              "      <td>Private</td>\n",
              "      <td>338409</td>\n",
              "      <td>Bachelors</td>\n",
              "      <td>13</td>\n",
              "      <td>Married-civ-spouse</td>\n",
              "      <td>Prof-specialty</td>\n",
              "      <td>Wife</td>\n",
              "      <td>Black</td>\n",
              "      <td>Female</td>\n",
              "      <td>0</td>\n",
              "      <td>0</td>\n",
              "      <td>40</td>\n",
              "      <td>Cuba</td>\n",
              "      <td>0</td>\n",
              "    </tr>\n",
              "    <tr>\n",
              "      <th>4</th>\n",
              "      <td>37</td>\n",
              "      <td>Private</td>\n",
              "      <td>284582</td>\n",
              "      <td>Masters</td>\n",
              "      <td>14</td>\n",
              "      <td>Married-civ-spouse</td>\n",
              "      <td>Exec-managerial</td>\n",
              "      <td>Wife</td>\n",
              "      <td>White</td>\n",
              "      <td>Female</td>\n",
              "      <td>0</td>\n",
              "      <td>0</td>\n",
              "      <td>40</td>\n",
              "      <td>United-States</td>\n",
              "      <td>0</td>\n",
              "    </tr>\n",
              "  </tbody>\n",
              "</table>\n",
              "</div>"
            ],
            "text/plain": [
              "   age          workclass  ...  native-country income-per-year\n",
              "0   50   Self-emp-not-inc  ...   United-States               0\n",
              "1   38            Private  ...   United-States               0\n",
              "2   53            Private  ...   United-States               0\n",
              "3   28            Private  ...            Cuba               0\n",
              "4   37            Private  ...   United-States               0\n",
              "\n",
              "[5 rows x 15 columns]"
            ]
          },
          "metadata": {
            "tags": []
          },
          "execution_count": 52
        }
      ]
    },
    {
      "cell_type": "markdown",
      "metadata": {
        "id": "wwspj1igcDVb",
        "colab_type": "text"
      },
      "source": [
        "# Visualization\n",
        "\n",
        "### 4.1 Percentange of Labels present"
      ]
    },
    {
      "cell_type": "code",
      "metadata": {
        "id": "g1_rD2YncDVc",
        "colab_type": "code",
        "colab": {
          "base_uri": "https://localhost:8080/",
          "height": 248
        },
        "outputId": "027eef08-6d29-41b9-e729-9f73eeb808d1"
      },
      "source": [
        "\n",
        "# Plot 1\n",
        "label_count = [len(df_assg1[df_assg1['income-per-year'] == 0]),len(df_assg1[df_assg1['income-per-year'] == 1])]\n",
        "label = ['<=$50K', '>$50K']\n",
        "colors = ['r', 'b']\n",
        "plt.pie(label_count, labels=label, colors=colors, startangle=90, autopct='%.1f%%')\n",
        "plt.show()"
      ],
      "execution_count": 53,
      "outputs": [
        {
          "output_type": "display_data",
          "data": {
            "image/png": "[encoded data removed]",
            "text/plain": [
              "<Figure size 432x288 with 1 Axes>"
            ]
          },
          "metadata": {
            "tags": []
          }
        }
      ]
    },
    {
      "cell_type": "markdown",
      "metadata": {
        "id": "MizcSEnrcDVe",
        "colab_type": "text"
      },
      "source": [
        "Observation 1: Most of the records are in <=$50K Category ( around 3/4th)"
      ]
    },
    {
      "cell_type": "markdown",
      "metadata": {
        "id": "mwc9w96jcDVe",
        "colab_type": "text"
      },
      "source": [
        "4.2 Observing the covariance Matrix"
      ]
    },
    {
      "cell_type": "code",
      "metadata": {
        "id": "B2ulRziqcDVf",
        "colab_type": "code",
        "colab": {
          "base_uri": "https://localhost:8080/",
          "height": 529
        },
        "outputId": "8536c59e-0352-428e-f8e3-f8e65b1e7461"
      },
      "source": [
        "plt.figure(figsize=(10,7))  \n",
        "sns.heatmap(df_assg1.corr(),annot=True,linewidths=.5, cmap=\"Blues\")\n",
        "plt.title('Heatmap showing correlations between numerical data')\n",
        "plt.show()"
      ],
      "execution_count": 54,
      "outputs": [
        {
          "output_type": "display_data",
          "data": {
            "image/png": "[encoded data removed]",
            "text/plain": [
              "<Figure size 720x504 with 2 Axes>"
            ]
          },
          "metadata": {
            "tags": []
          }
        }
      ]
    },
    {
      "cell_type": "code",
      "metadata": {
        "id": "LkOearCMcDVg",
        "colab_type": "code",
        "colab": {
          "base_uri": "https://localhost:8080/",
          "height": 268
        },
        "outputId": "3129d9b1-d377-43ee-d027-fc2a3f85099c"
      },
      "source": [
        "# Plot 2: For Age\n",
        "df_assg1['age'].hist()\n",
        "plt.show()"
      ],
      "execution_count": 55,
      "outputs": [
        {
          "output_type": "display_data",
          "data": {
            "image/png": "[encoded data removed]",
            "text/plain": [
              "<Figure size 432x288 with 1 Axes>"
            ]
          },
          "metadata": {
            "tags": []
          }
        }
      ]
    },
    {
      "cell_type": "markdown",
      "metadata": {
        "id": "Np4jmWd0cDVi",
        "colab_type": "text"
      },
      "source": [
        "Observation 2:\n",
        "1. Most of the population is concentrated 25-45 age group which means very less older people are there earning stage \n",
        "2. Minimum seems to be 17 (staisfying the dataset condition) and maximum to be 90"
      ]
    },
    {
      "cell_type": "code",
      "metadata": {
        "id": "6vVZfoBacDVj",
        "colab_type": "code",
        "colab": {
          "base_uri": "https://localhost:8080/",
          "height": 438
        },
        "outputId": "e302b7bf-d45b-404c-e8bb-7ad6eb55f63d"
      },
      "source": [
        "#Plot 3:  Salaries of different workclass\n",
        "sns.set(style=\"darkgrid\")\n",
        "ax = sns.countplot(x=\"workclass\",hue=\"income-per-year\", data=df_assg1)\n",
        "total=float(len(df_assg1))\n",
        "for p in ax.patches:\n",
        "    height = p.get_height()\n",
        "    if height < 0 :\n",
        "        height = 0;\n",
        "    ax.text(float(p.get_x()+p.get_width()/2), \n",
        "               float(height),\n",
        "            '{:1.2f}'.format((height/total)*100),\n",
        "            ha=\"center\",fontsize=9) \n",
        "plt.xticks(rotation=90)\n",
        "plt.show()"
      ],
      "execution_count": 56,
      "outputs": [
        {
          "output_type": "stream",
          "text": [
            "posx and posy should be finite values\n",
            "posx and posy should be finite values\n",
            "posx and posy should be finite values\n",
            "posx and posy should be finite values\n"
          ],
          "name": "stderr"
        },
        {
          "output_type": "display_data",
          "data": {
            "image/png": "[encoded data removed]",
            "text/plain": [
              "<Figure size 432x288 with 1 Axes>"
            ]
          },
          "metadata": {
            "tags": []
          }
        }
      ]
    },
    {
      "cell_type": "markdown",
      "metadata": {
        "id": "s5gQ8bYscDVk",
        "colab_type": "text"
      },
      "source": [
        "Observation 3: \n",
        "1. Around 75% of the population is working in the private sector\n",
        "2. Sel- employed is the only sector where there are more people with >$50K than <=$50K\n"
      ]
    },
    {
      "cell_type": "markdown",
      "metadata": {
        "id": "OHZTD04YcDVl",
        "colab_type": "text"
      },
      "source": [
        "#Plot 4\n",
        "ax = sns.countplot(x=\"education-num\",hue=\"income-per-year\", data=df_assg1)\n",
        "plt.xticks(rotation=90)\n",
        "plt.show()"
      ]
    },
    {
      "cell_type": "markdown",
      "metadata": {
        "id": "JXu26msRcDVl",
        "colab_type": "text"
      },
      "source": [
        "Observation 4:\n",
        "1. As number of years of education increases the chances of getting income >$50K increases"
      ]
    },
    {
      "cell_type": "code",
      "metadata": {
        "id": "E0hiSkBpcDVm",
        "colab_type": "code",
        "colab": {
          "base_uri": "https://localhost:8080/",
          "height": 356
        },
        "outputId": "a4bb3de5-f8cb-4d99-8e38-424ef3866843"
      },
      "source": [
        "# Plot 5\n",
        "\n",
        "from matplotlib import pyplot\n",
        "a4_dims = (20, 5)\n",
        "fig, ax = pyplot.subplots(figsize=a4_dims)\n",
        "ax = sns.violinplot(x=\"race\", y=\"age\", hue=\"income-per-year\",\n",
        "                    data=df_assg1, gridsize=100, palette=\"muted\", split=True, saturation=0.75)\n",
        "ax"
      ],
      "execution_count": 57,
      "outputs": [
        {
          "output_type": "execute_result",
          "data": {
            "text/plain": [
              "<matplotlib.axes._subplots.AxesSubplot at 0x7fbcf5e16160>"
            ]
          },
          "metadata": {
            "tags": []
          },
          "execution_count": 57
        },
        {
          "output_type": "display_data",
          "data": {
            "image/png": "[encoded data removed]",
            "text/plain": [
              "<Figure size 1440x360 with 1 Axes>"
            ]
          },
          "metadata": {
            "tags": []
          }
        }
      ]
    },
    {
      "cell_type": "markdown",
      "metadata": {
        "id": "rtIwgm5fcDVn",
        "colab_type": "text"
      },
      "source": [
        "Observation 8:\n",
        "1. Approx 40 is the age in all races where maximum people are earning >$50K\n",
        "2.Early 20s to 30 maximum people are in <=$50K income category\n",
        "3.For Asisn-Pac-Islander and Amer-India-Eskimo race the number of people in >$50K and <=$50K seems to be balanced"
      ]
    },
    {
      "cell_type": "markdown",
      "metadata": {
        "id": "pEdniDTocDVo",
        "colab_type": "text"
      },
      "source": [
        "# III Methods"
      ]
    },
    {
      "cell_type": "markdown",
      "metadata": {
        "id": "osB6Pj_ucDVo",
        "colab_type": "text"
      },
      "source": [
        "# General Definitions:\n",
        "\n",
        "### Keras: Keras is an open-source neural-network library written in Python. It is capable of running on top of TensorFlow, Microsoft Cognitive Toolkit, R, Theano, or PlaidML. Designed to enable fast experimentation with deep neural networks\n",
        "\n",
        "### Sequential model: The Sequential model is a linear stack of layers.A Sequential model can be created by passing a list of layer instances to the constructor\n",
        "\n",
        "### Activation function: Activation function decides, whether a neuron should be activated or not by calculating weighted sum and further adding bias with it. The purpose of the activation function is to introduce non-linearity into the output of a neuron.\n",
        "\n",
        "### Loss: This is the objective that the model will try to minimize.. Loss functions map a set of parameter values for the network onto a scalar value that indicates how well those parameter accomplish the task the network is intended to do.\n",
        "\n",
        "### optimizer: Optimization algorithms helps us to minimize (or maximize) an Objective function (another name for Error function) E(x) which is simply a mathematical function dependent on the Model’s internal learnable parameters which are used in computing the target values(Y) from the set of predictors(X) used in the model.\n",
        "\n",
        "### metrics: A metric is a function that is used to judge the performance of your model\n",
        "\n",
        "### Epoch: an arbitrary cutoff, generally defined as “one pass over the entire dataset”, used to separate training into distinct phases, which is useful for logging and periodic evaluation.\n"
      ]
    },
    {
      "cell_type": "code",
      "metadata": {
        "id": "wTGkIl-2cDVp",
        "colab_type": "code",
        "colab": {}
      },
      "source": [
        "y=df_assg1[['income-per-year']]\n",
        "df_assg1.drop(['income-per-year'],axis=1,inplace=True)\n",
        "\n"
      ],
      "execution_count": 0,
      "outputs": []
    },
    {
      "cell_type": "code",
      "metadata": {
        "id": "Q2shpO6icDVr",
        "colab_type": "code",
        "colab": {}
      },
      "source": [
        "df_assg1.drop(['fnlwgt'],axis=1,inplace=True)"
      ],
      "execution_count": 0,
      "outputs": []
    },
    {
      "cell_type": "code",
      "metadata": {
        "id": "lqrv5wmKcDVs",
        "colab_type": "code",
        "colab": {}
      },
      "source": [
        "df_assg1=pd.get_dummies(df_assg1)"
      ],
      "execution_count": 0,
      "outputs": []
    },
    {
      "cell_type": "code",
      "metadata": {
        "id": "YU51TNFWcDVu",
        "colab_type": "code",
        "colab": {}
      },
      "source": [
        "from sklearn.model_selection import train_test_split\n",
        "X_train, X_test, y_train, y_test = train_test_split(df_assg1, y, test_size=0.33, random_state=42)"
      ],
      "execution_count": 0,
      "outputs": []
    },
    {
      "cell_type": "code",
      "metadata": {
        "id": "Ptdz6h51cDVx",
        "colab_type": "code",
        "colab": {
          "base_uri": "https://localhost:8080/",
          "height": 34
        },
        "outputId": "6df5fdfc-29c0-4355-f79d-399a21ed1823"
      },
      "source": [
        "X_train.shape"
      ],
      "execution_count": 62,
      "outputs": [
        {
          "output_type": "execute_result",
          "data": {
            "text/plain": [
              "(21815, 104)"
            ]
          },
          "metadata": {
            "tags": []
          },
          "execution_count": 62
        }
      ]
    },
    {
      "cell_type": "code",
      "metadata": {
        "id": "4qV_XFc0cDV2",
        "colab_type": "code",
        "colab": {}
      },
      "source": [
        "from sklearn.preprocessing import StandardScaler\n",
        "s = StandardScaler()\n",
        "s.fit(X_train)\n",
        "X_train = s.transform(X_train)\n",
        "s.fit(X_test)\n",
        "X_test = s.transform(X_test)\n"
      ],
      "execution_count": 0,
      "outputs": []
    },
    {
      "cell_type": "code",
      "metadata": {
        "id": "u2e3CCS5cDV3",
        "colab_type": "code",
        "colab": {
          "base_uri": "https://localhost:8080/",
          "height": 162
        },
        "outputId": "3d8a563d-209e-4ff0-82e6-0901b57fea65"
      },
      "source": [
        "print(history.history.keys())"
      ],
      "execution_count": 64,
      "outputs": [
        {
          "output_type": "error",
          "ename": "NameError",
          "evalue": "ignored",
          "traceback": [
            "\u001b[0;31m---------------------------------------------------------------------------\u001b[0m",
            "\u001b[0;31mNameError\u001b[0m                                 Traceback (most recent call last)",
            "\u001b[0;32m<ipython-input-64-7f539fdf9cbf>\u001b[0m in \u001b[0;36m<module>\u001b[0;34m()\u001b[0m\n\u001b[0;32m----> 1\u001b[0;31m \u001b[0mprint\u001b[0m\u001b[0;34m(\u001b[0m\u001b[0mhistory\u001b[0m\u001b[0;34m.\u001b[0m\u001b[0mhistory\u001b[0m\u001b[0;34m.\u001b[0m\u001b[0mkeys\u001b[0m\u001b[0;34m(\u001b[0m\u001b[0;34m)\u001b[0m\u001b[0;34m)\u001b[0m\u001b[0;34m\u001b[0m\u001b[0;34m\u001b[0m\u001b[0m\n\u001b[0m",
            "\u001b[0;31mNameError\u001b[0m: name 'history' is not defined"
          ]
        }
      ]
    },
    {
      "cell_type": "markdown",
      "metadata": {
        "id": "X7ckk8SucDV5",
        "colab_type": "text"
      },
      "source": [
        "## Network Architechture - Explanation, Implementation and Results"
      ]
    },
    {
      "cell_type": "markdown",
      "metadata": {
        "id": "p32plKl9cDV5",
        "colab_type": "text"
      },
      "source": [
        "# Summary of Choice of Networks:\n",
        "\n",
        "For Model 1 , I have created a basic sequential network, keeping the standard parameters used for a binary classification problem. The activation function used is 'relu' as,ReLu is less computationally expensive than tanh and sigmoid because it involves simpler mathematical operations.\n",
        "\n",
        "For model 2, I have made use of regularization using the dropout which is set to 0.5. This will ensure that overfitting is avoided.\n",
        "\n",
        "For model 3, I have tried a different activation function - 'Leaky Relu'. .The non-differentiability at zero problem can be solved by allowing a small value to flow when the input is less than or equal to 0, which thus overcomes the “Dying ReLU” problem. It has proved to give better results for some problems. Also the loss used is mean-square-error.\n",
        "\n"
      ]
    },
    {
      "cell_type": "markdown",
      "metadata": {
        "id": "qUb4jNCDcDV6",
        "colab_type": "text"
      },
      "source": [
        "# Model 1"
      ]
    },
    {
      "cell_type": "code",
      "metadata": {
        "id": "7FxD_n4UcDV6",
        "colab_type": "code",
        "colab": {}
      },
      "source": [
        ""
      ],
      "execution_count": 0,
      "outputs": []
    },
    {
      "cell_type": "code",
      "metadata": {
        "id": "TAEBSyc4cDV8",
        "colab_type": "code",
        "colab": {}
      },
      "source": [
        "from keras.models import Sequential\n",
        "from keras.layers import Dense, Activation\n",
        "\n",
        "model = Sequential()\n",
        "model.add(Dense(104, input_dim=104, activation='relu'))\n",
        "model.add(Dense(10, activation='relu'))\n",
        "model.add(Dense(10, activation='relu'))\n",
        "model.add(Dense(30, activation='relu'))\n",
        "model.add(Dense(40, activation='relu'))\n",
        "model.add(Dense(1, activation='sigmoid'))\n",
        "model.compile(loss='binary_crossentropy', optimizer='adam', metrics=['accuracy'])\n"
      ],
      "execution_count": 0,
      "outputs": []
    },
    {
      "cell_type": "code",
      "metadata": {
        "id": "map7wQVEcDV-",
        "colab_type": "code",
        "colab": {
          "base_uri": "https://localhost:8080/",
          "height": 353
        },
        "outputId": "7c8a596d-e4c7-4403-f180-82e36325db2f"
      },
      "source": [
        "model.summary()"
      ],
      "execution_count": 66,
      "outputs": [
        {
          "output_type": "stream",
          "text": [
            "Model: \"sequential_4\"\n",
            "_________________________________________________________________\n",
            "Layer (type)                 Output Shape              Param #   \n",
            "=================================================================\n",
            "dense_22 (Dense)             (None, 104)               10920     \n",
            "_________________________________________________________________\n",
            "dense_23 (Dense)             (None, 10)                1050      \n",
            "_________________________________________________________________\n",
            "dense_24 (Dense)             (None, 10)                110       \n",
            "_________________________________________________________________\n",
            "dense_25 (Dense)             (None, 30)                330       \n",
            "_________________________________________________________________\n",
            "dense_26 (Dense)             (None, 40)                1240      \n",
            "_________________________________________________________________\n",
            "dense_27 (Dense)             (None, 1)                 41        \n",
            "=================================================================\n",
            "Total params: 13,691\n",
            "Trainable params: 13,691\n",
            "Non-trainable params: 0\n",
            "_________________________________________________________________\n"
          ],
          "name": "stdout"
        }
      ]
    },
    {
      "cell_type": "code",
      "metadata": {
        "id": "Y9CJpfUbcDWA",
        "colab_type": "code",
        "colab": {}
      },
      "source": [
        "result=model.fit(X_train,y_train,epochs=5,validation_split=0.33,verbose=0)"
      ],
      "execution_count": 0,
      "outputs": []
    },
    {
      "cell_type": "markdown",
      "metadata": {
        "id": "3a98iYvTcDWC",
        "colab_type": "text"
      },
      "source": [
        "# Explanation of code:\n",
        "\n",
        "In Model 1,I have implemented a sequential model of 6-layers including the I/P and the O/P layer. The activation function used is 'relu' as,ReLu is less computationally expensive than tanh and sigmoid because it involves simpler mathematical operations. That is why it is a good point to consider when we are designing deep neural nets.  The model needs to know what input shape it should expect. For this reason, the first layer in a Sequential model needs to receive the input shape. This is specified by input_dim parameter. No. of nodes in each layer are from 10-40. A dense layer is a classic fully connected neural network layer : each input node is connected to each output node.\n",
        "Finally, I am using the logarithmic loss function (binary_crossentropy) during training, the preferred loss function for binary classification problems. The model also uses the efficient Adam optimization algorithm for gradient descent and accuracy metrics will be collected when the model is trained.  The output layer contains a single neuron in order to make predictions. It uses the sigmoid activation function in order to produce a probability output in the range of 0 to 1 that can easily and automatically be converted to crisp class values. The model is then fitted on to the train data using the fit method, and keeping a validation set of 33% to examine our results. This method returns loss and accuracy over the epochs.\n",
        "\n"
      ]
    },
    {
      "cell_type": "markdown",
      "metadata": {
        "id": "oF91UXmPcDWC",
        "colab_type": "text"
      },
      "source": [
        "# Results"
      ]
    },
    {
      "cell_type": "code",
      "metadata": {
        "id": "Ej-JB-LCcDWD",
        "colab_type": "code",
        "colab": {
          "base_uri": "https://localhost:8080/",
          "height": 195
        },
        "outputId": "6e633f39-fb33-4d7f-bb30-05f87956b2c2"
      },
      "source": [
        "print(\"Accuracy of model 1\")\n",
        "print(result.history['accuracy'][-1] * 100)"
      ],
      "execution_count": 68,
      "outputs": [
        {
          "output_type": "stream",
          "text": [
            "Accuracy of model 1\n"
          ],
          "name": "stdout"
        },
        {
          "output_type": "error",
          "ename": "KeyError",
          "evalue": "ignored",
          "traceback": [
            "\u001b[0;31m---------------------------------------------------------------------------\u001b[0m",
            "\u001b[0;31mKeyError\u001b[0m                                  Traceback (most recent call last)",
            "\u001b[0;32m<ipython-input-68-7376068226f3>\u001b[0m in \u001b[0;36m<module>\u001b[0;34m()\u001b[0m\n\u001b[1;32m      1\u001b[0m \u001b[0mprint\u001b[0m\u001b[0;34m(\u001b[0m\u001b[0;34m\"Accuracy of model 1\"\u001b[0m\u001b[0;34m)\u001b[0m\u001b[0;34m\u001b[0m\u001b[0;34m\u001b[0m\u001b[0m\n\u001b[0;32m----> 2\u001b[0;31m \u001b[0mprint\u001b[0m\u001b[0;34m(\u001b[0m\u001b[0mresult\u001b[0m\u001b[0;34m.\u001b[0m\u001b[0mhistory\u001b[0m\u001b[0;34m[\u001b[0m\u001b[0;34m'accuracy'\u001b[0m\u001b[0;34m]\u001b[0m\u001b[0;34m[\u001b[0m\u001b[0;34m-\u001b[0m\u001b[0;36m1\u001b[0m\u001b[0;34m]\u001b[0m \u001b[0;34m*\u001b[0m \u001b[0;36m100\u001b[0m\u001b[0;34m)\u001b[0m\u001b[0;34m\u001b[0m\u001b[0;34m\u001b[0m\u001b[0m\n\u001b[0m",
            "\u001b[0;31mKeyError\u001b[0m: 'accuracy'"
          ]
        }
      ]
    },
    {
      "cell_type": "code",
      "metadata": {
        "id": "kWW4o5T1cDWF",
        "colab_type": "code",
        "colab": {}
      },
      "source": [
        "score = model.evaluate(X_test, y_test, verbose=0)\n",
        "print('Test loss:', score[0])\n",
        "print('Test accuracy:', score[1])"
      ],
      "execution_count": 0,
      "outputs": []
    },
    {
      "cell_type": "markdown",
      "metadata": {
        "id": "FvOtkAxjcDWG",
        "colab_type": "text"
      },
      "source": [
        "# Plots\n",
        "## 1. A plot of accuracy on the training and validation datasets over training epochs.\n",
        "## 2.plot of loss on the training and validation datasets over training epochs."
      ]
    },
    {
      "cell_type": "code",
      "metadata": {
        "id": "m3K2pGJocDWH",
        "colab_type": "code",
        "colab": {}
      },
      "source": [
        "plt.plot(result.history['acc'])\n",
        "plt.plot(result.history['val_acc'])\n",
        "plt.title('model accuracy')\n",
        "plt.ylabel('accuracy')\n",
        "plt.xlabel('epoch')\n",
        "plt.legend(['train', 'test'], loc='upper left')\n",
        "plt.show()\n",
        "\n",
        "\n",
        "\n",
        "plt.plot(result.history['loss'])\n",
        "plt.plot(result.history['val_loss'])\n",
        "plt.title('model loss')\n",
        "plt.ylabel('loss')\n",
        "plt.xlabel('epoch')\n",
        "plt.legend(['train', 'test'], loc='upper left')\n",
        "plt.show()\n",
        "\n"
      ],
      "execution_count": 0,
      "outputs": []
    },
    {
      "cell_type": "markdown",
      "metadata": {
        "id": "a_0jV3dMcDWJ",
        "colab_type": "text"
      },
      "source": [
        "# Analysis\n",
        "\n",
        "The plots can provide an indication of useful things about the training of the model, such as:\n",
        "-It’s speed of convergence over epochs (slope).\n",
        "-Whether the model may have already converged (plateau of the line).\n",
        "-Whether the mode may be over-learning the training data (inflection form validation/test line).\n",
        "\n",
        "From the above plots, it can be observed that after epoch 1, the training accuracy is increasing while the testing/validation goes down, this indicates that the model is overfitting the train data and thus not able to do well on unknown test data.\n",
        "\n",
        "This is also evident from train and test accuracies calculated above.\n"
      ]
    },
    {
      "cell_type": "markdown",
      "metadata": {
        "id": "e7NUovIGcDWJ",
        "colab_type": "text"
      },
      "source": [
        "# Model 2"
      ]
    },
    {
      "cell_type": "code",
      "metadata": {
        "id": "SFQ1mki1cDWK",
        "colab_type": "code",
        "colab": {}
      },
      "source": [
        "from keras.layers import Dense, Dropout\n",
        "model = Sequential()\n",
        "model.add(Dense(104, input_dim=104, activation='relu'))\n",
        "model.add(Dropout(0.5))\n",
        "model.add(Dense(20, activation='relu'))\n",
        "model.add(Dropout(0.5))\n",
        "model.add(Dense(20, activation='relu'))\n",
        "model.add(Dropout(0.5))\n",
        "model.add(Dense(20, activation='relu'))\n",
        "#model.add(Dropout(0.5))\n",
        "model.add(Dense(20, activation='relu'))\n",
        "#model.add(Dropout(0.5))\n",
        "model.add(Dense(1, activation='sigmoid'))\n",
        "\n",
        "model.compile(loss='binary_crossentropy',\n",
        "              optimizer='rmsprop',\n",
        "              metrics=['accuracy'])\n",
        "\n",
        "result=model.fit(X_train, y_train,validation_split=0.33,\n",
        "          epochs=20)\n"
      ],
      "execution_count": 0,
      "outputs": []
    },
    {
      "cell_type": "code",
      "metadata": {
        "id": "L613ig13cDWL",
        "colab_type": "code",
        "colab": {}
      },
      "source": [
        "model.summary()"
      ],
      "execution_count": 0,
      "outputs": []
    },
    {
      "cell_type": "markdown",
      "metadata": {
        "id": "qh-yNlxtcDWN",
        "colab_type": "text"
      },
      "source": [
        "# Explanation of code:\n",
        "\n",
        "Model 2 is constructed similar to Model 1, keeping the activation function,no. of layers, loss and metrics the same. But Model 1 was suffering from overfitting problem, thus to combat that dropout layers are introduced for some hidden layers.A dropout layer is similar to dense layer except that when the layer is used, the activations are set to zero for some random nodes. This is a way to prevent overfitting. Dropout is a technique where randomly selected neurons are ignored during training. They are “dropped-out” randomly. This means that their contribution to the activation of downstream neurons is temporally removed on the forward pass and any weight updates are not applied to the neuron on the backward pass.The effect is that the network becomes less sensitive to the specific weights of neurons. This in turn results in a network that is capable of better generalization and is less likely to overfit the training data. Dropout of 50% is used\n",
        "The no. of epochs is also increased to beat overfitting.\n",
        "rmsprop optimizer is used. Root mean square prop or RMSprop is using the same concept of the exponentially weighted average of the gradients like gradient descent with momentum but the difference is the update of parameters.\n"
      ]
    },
    {
      "cell_type": "markdown",
      "metadata": {
        "id": "diDzmShicDWO",
        "colab_type": "text"
      },
      "source": [
        "# Results"
      ]
    },
    {
      "cell_type": "code",
      "metadata": {
        "id": "gl6MfVpMcDWO",
        "colab_type": "code",
        "colab": {
          "base_uri": "https://localhost:8080/",
          "height": 50
        },
        "outputId": "7d634fb7-07f1-4baa-b431-c1f08a535960"
      },
      "source": [
        "print(\"Accuracy of model 1\")\n",
        "print(result.history['acc'][-1] * 100)"
      ],
      "execution_count": 69,
      "outputs": [
        {
          "output_type": "stream",
          "text": [
            "Accuracy of model 1\n",
            "86.53530377994552\n"
          ],
          "name": "stdout"
        }
      ]
    },
    {
      "cell_type": "code",
      "metadata": {
        "id": "2ohmJf94cDWR",
        "colab_type": "code",
        "colab": {
          "base_uri": "https://localhost:8080/",
          "height": 50
        },
        "outputId": "210a2552-fee5-4cea-83bb-b85ab1aabe93"
      },
      "source": [
        "score = model.evaluate(X_test, y_test, verbose=0)\n",
        "print('Test loss:', score[0])\n",
        "print('Test accuracy:', score[1])"
      ],
      "execution_count": 70,
      "outputs": [
        {
          "output_type": "stream",
          "text": [
            "Test loss: 0.3300755299707522\n",
            "Test accuracy: 0.8497906003069357\n"
          ],
          "name": "stdout"
        }
      ]
    },
    {
      "cell_type": "markdown",
      "metadata": {
        "id": "8Z7m9uyycDWU",
        "colab_type": "text"
      },
      "source": [
        "# Plots\n",
        "## 1. A plot of accuracy on the training and validation datasets over training epochs.\n",
        "## 2.plot of loss on the training and validation datasets over training epochs."
      ]
    },
    {
      "cell_type": "code",
      "metadata": {
        "id": "qLS1enxXcDWU",
        "colab_type": "code",
        "colab": {
          "base_uri": "https://localhost:8080/",
          "height": 585
        },
        "outputId": "2a6499e2-757e-45b7-ebd7-4cefa83cb72d"
      },
      "source": [
        "plt.plot(result.history['acc'])\n",
        "plt.plot(result.history['val_acc'])\n",
        "plt.title('model accuracy')\n",
        "plt.ylabel('accuracy')\n",
        "plt.xlabel('epoch')\n",
        "plt.legend(['train', 'test'], loc='upper left')\n",
        "plt.show()\n",
        "\n",
        "\n",
        "\n",
        "plt.plot(result.history['loss'])\n",
        "plt.plot(result.history['val_loss'])\n",
        "plt.title('model loss')\n",
        "plt.ylabel('loss')\n",
        "plt.xlabel('epoch')\n",
        "plt.legend(['train', 'test'], loc='upper left')\n",
        "plt.show()\n",
        "\n"
      ],
      "execution_count": 71,
      "outputs": [
        {
          "output_type": "display_data",
          "data": {
            "image/png": "[encoded data removed]",
            "text/plain": [
              "<Figure size 432x288 with 1 Axes>"
            ]
          },
          "metadata": {
            "tags": []
          }
        },
        {
          "output_type": "display_data",
          "data": {
            "image/png": "[encoded data removed]",
            "text/plain": [
              "<Figure size 432x288 with 1 Axes>"
            ]
          },
          "metadata": {
            "tags": []
          }
        }
      ]
    },
    {
      "cell_type": "markdown",
      "metadata": {
        "id": "fQB9aMPncDWW",
        "colab_type": "text"
      },
      "source": [
        "# Analysis\n",
        "\n",
        "From the plot of accuracy we can see that the model could probably be trained a little more as the trend for accuracy on both datasets is still rising for the last few epochs. We can also see that the model has not yet over-learned the training dataset, showing comparable skill on both datasets.\n",
        "From the plot of loss, we can see that the model has comparable performance on both train and validation datasets (labeled test). If these parallel plots start to depart consistently, it might be a sign to stop training at an earlier epoch\n",
        "This suggest that the overfitting problem is solved. Although the accuracy is not increased much for the test data compare to previous one, it can be if no. of epochs are set high. \n",
        "\n"
      ]
    },
    {
      "cell_type": "markdown",
      "metadata": {
        "id": "Q_Zzo1nlcDWW",
        "colab_type": "text"
      },
      "source": [
        "\n",
        "# Model 3"
      ]
    },
    {
      "cell_type": "code",
      "metadata": {
        "id": "xQ5ThEQRcDWW",
        "colab_type": "code",
        "colab": {
          "base_uri": "https://localhost:8080/",
          "height": 370
        },
        "outputId": "ecbd36c3-c053-42bc-93c1-ca4cc0462e21"
      },
      "source": [
        "from keras.layers import LeakyReLU\n",
        "from keras.layers import Dense, Dropout\n",
        "model = Sequential()\n",
        "x=model.add(Dense(104, input_dim=104, activation='relu'))\n",
        "\n",
        "model.add(Dense(30))\n",
        "from keras.layers import LeakyReLU\n",
        "\n",
        "# instead of cnn_model.add(Activation('relu'))\n",
        "# use\n",
        "model.add(LeakyReLU(alpha=0.1))\n",
        "\n",
        "model.add(Dense(40))\n",
        "model.add(LeakyReLU(alpha=0.1))\n",
        "\n",
        "model.add(Dense(40))\n",
        "model.add(LeakyReLU(alpha=0.1))\n",
        "\n",
        "model.add(Dense(30))\n",
        "model.add(LeakyReLU(alpha=0.1))\n",
        "\n",
        "model.add(Dense(40))\n",
        "model.add(LeakyReLU(alpha=0.1))\n",
        "\n",
        "model.add(Dense(40))\n",
        "model.add(LeakyReLU(alpha=0.1))\n",
        "\n",
        "model.add(Dense(40))\n",
        "model.add(LeakyReLU(alpha=0.1))\n",
        "\n",
        "\n",
        "\n",
        "\n",
        "\n",
        "model.add(Dense(1, activation='sigmoid'))\n",
        "\n",
        "model.compile(loss='mean_squared_error',\n",
        "              optimizer='adam',\n",
        "              metrics=['accuracy'])\n",
        "\n",
        "result=model.fit(X_train, y_train,validation_split=0.33,epochs=10)\n"
      ],
      "execution_count": 72,
      "outputs": [
        {
          "output_type": "stream",
          "text": [
            "Train on 14616 samples, validate on 7199 samples\n",
            "Epoch 1/10\n",
            "14616/14616 [==============================] - 2s 150us/step - loss: 0.1200 - acc: 0.8269 - val_loss: 0.1083 - val_acc: 0.8378\n",
            "Epoch 2/10\n",
            "14616/14616 [==============================] - 1s 74us/step - loss: 0.1039 - acc: 0.8485 - val_loss: 0.1022 - val_acc: 0.8505\n",
            "Epoch 3/10\n",
            "14616/14616 [==============================] - 1s 74us/step - loss: 0.0995 - acc: 0.8550 - val_loss: 0.1033 - val_acc: 0.8510\n",
            "Epoch 4/10\n",
            "14616/14616 [==============================] - 1s 75us/step - loss: 0.0966 - acc: 0.8612 - val_loss: 0.1029 - val_acc: 0.8529\n",
            "Epoch 5/10\n",
            "14616/14616 [==============================] - 1s 78us/step - loss: 0.0944 - acc: 0.8647 - val_loss: 0.1039 - val_acc: 0.8497\n",
            "Epoch 6/10\n",
            "14616/14616 [==============================] - 1s 78us/step - loss: 0.0930 - acc: 0.8671 - val_loss: 0.1029 - val_acc: 0.8572\n",
            "Epoch 7/10\n",
            "14616/14616 [==============================] - 1s 79us/step - loss: 0.0912 - acc: 0.8705 - val_loss: 0.1025 - val_acc: 0.8533\n",
            "Epoch 8/10\n",
            "14616/14616 [==============================] - 1s 79us/step - loss: 0.0907 - acc: 0.8706 - val_loss: 0.1040 - val_acc: 0.8507\n",
            "Epoch 9/10\n",
            "14616/14616 [==============================] - 1s 79us/step - loss: 0.0888 - acc: 0.8727 - val_loss: 0.1045 - val_acc: 0.8532\n",
            "Epoch 10/10\n",
            "14616/14616 [==============================] - 1s 75us/step - loss: 0.0875 - acc: 0.8748 - val_loss: 0.1060 - val_acc: 0.8501\n"
          ],
          "name": "stdout"
        }
      ]
    },
    {
      "cell_type": "code",
      "metadata": {
        "id": "dcg5Ui2EcDWY",
        "colab_type": "code",
        "colab": {
          "base_uri": "https://localhost:8080/",
          "height": 689
        },
        "outputId": "cfe758f2-41dc-4025-e4b0-0539f0099f35"
      },
      "source": [
        "model.summary()"
      ],
      "execution_count": 73,
      "outputs": [
        {
          "output_type": "stream",
          "text": [
            "Model: \"sequential_5\"\n",
            "_________________________________________________________________\n",
            "Layer (type)                 Output Shape              Param #   \n",
            "=================================================================\n",
            "dense_28 (Dense)             (None, 104)               10920     \n",
            "_________________________________________________________________\n",
            "dense_29 (Dense)             (None, 30)                3150      \n",
            "_________________________________________________________________\n",
            "leaky_re_lu_8 (LeakyReLU)    (None, 30)                0         \n",
            "_________________________________________________________________\n",
            "dense_30 (Dense)             (None, 40)                1240      \n",
            "_________________________________________________________________\n",
            "leaky_re_lu_9 (LeakyReLU)    (None, 40)                0         \n",
            "_________________________________________________________________\n",
            "dense_31 (Dense)             (None, 40)                1640      \n",
            "_________________________________________________________________\n",
            "leaky_re_lu_10 (LeakyReLU)   (None, 40)                0         \n",
            "_________________________________________________________________\n",
            "dense_32 (Dense)             (None, 30)                1230      \n",
            "_________________________________________________________________\n",
            "leaky_re_lu_11 (LeakyReLU)   (None, 30)                0         \n",
            "_________________________________________________________________\n",
            "dense_33 (Dense)             (None, 40)                1240      \n",
            "_________________________________________________________________\n",
            "leaky_re_lu_12 (LeakyReLU)   (None, 40)                0         \n",
            "_________________________________________________________________\n",
            "dense_34 (Dense)             (None, 40)                1640      \n",
            "_________________________________________________________________\n",
            "leaky_re_lu_13 (LeakyReLU)   (None, 40)                0         \n",
            "_________________________________________________________________\n",
            "dense_35 (Dense)             (None, 40)                1640      \n",
            "_________________________________________________________________\n",
            "leaky_re_lu_14 (LeakyReLU)   (None, 40)                0         \n",
            "_________________________________________________________________\n",
            "dense_36 (Dense)             (None, 1)                 41        \n",
            "=================================================================\n",
            "Total params: 22,741\n",
            "Trainable params: 22,741\n",
            "Non-trainable params: 0\n",
            "_________________________________________________________________\n"
          ],
          "name": "stdout"
        }
      ]
    },
    {
      "cell_type": "markdown",
      "metadata": {
        "id": "OV0dYDQBcDWa",
        "colab_type": "text"
      },
      "source": [
        "# Explanation of Code:\n",
        "\n",
        "Model 3 is similar to Model 1 but the major difference is using Leaky ReLU as the activation function.The non-differentiability at zero problem can be solved by allowing a small value to flow when the input is less than or equal to 0, which thus overcomes the “Dying ReLU” problem. It has proved to give better results for some problems. Also the loss used is mean-square-error."
      ]
    },
    {
      "cell_type": "markdown",
      "metadata": {
        "id": "bKl8IdaDcDWa",
        "colab_type": "text"
      },
      "source": [
        "# Results"
      ]
    },
    {
      "cell_type": "code",
      "metadata": {
        "id": "sPYqTQghcDWb",
        "colab_type": "code",
        "colab": {
          "base_uri": "https://localhost:8080/",
          "height": 195
        },
        "outputId": "2a66df98-614e-4ab2-ebd4-278e64d63e57"
      },
      "source": [
        "print(\"Accuracy of model 1\")\n",
        "print(result.history['accuracy'][-1] * 100)"
      ],
      "execution_count": 74,
      "outputs": [
        {
          "output_type": "stream",
          "text": [
            "Accuracy of model 1\n"
          ],
          "name": "stdout"
        },
        {
          "output_type": "error",
          "ename": "KeyError",
          "evalue": "ignored",
          "traceback": [
            "\u001b[0;31m---------------------------------------------------------------------------\u001b[0m",
            "\u001b[0;31mKeyError\u001b[0m                                  Traceback (most recent call last)",
            "\u001b[0;32m<ipython-input-74-7376068226f3>\u001b[0m in \u001b[0;36m<module>\u001b[0;34m()\u001b[0m\n\u001b[1;32m      1\u001b[0m \u001b[0mprint\u001b[0m\u001b[0;34m(\u001b[0m\u001b[0;34m\"Accuracy of model 1\"\u001b[0m\u001b[0;34m)\u001b[0m\u001b[0;34m\u001b[0m\u001b[0;34m\u001b[0m\u001b[0m\n\u001b[0;32m----> 2\u001b[0;31m \u001b[0mprint\u001b[0m\u001b[0;34m(\u001b[0m\u001b[0mresult\u001b[0m\u001b[0;34m.\u001b[0m\u001b[0mhistory\u001b[0m\u001b[0;34m[\u001b[0m\u001b[0;34m'accuracy'\u001b[0m\u001b[0;34m]\u001b[0m\u001b[0;34m[\u001b[0m\u001b[0;34m-\u001b[0m\u001b[0;36m1\u001b[0m\u001b[0;34m]\u001b[0m \u001b[0;34m*\u001b[0m \u001b[0;36m100\u001b[0m\u001b[0;34m)\u001b[0m\u001b[0;34m\u001b[0m\u001b[0;34m\u001b[0m\u001b[0m\n\u001b[0m",
            "\u001b[0;31mKeyError\u001b[0m: 'accuracy'"
          ]
        }
      ]
    },
    {
      "cell_type": "code",
      "metadata": {
        "id": "t20UsUk7cDWd",
        "colab_type": "code",
        "colab": {}
      },
      "source": [
        "score = model.evaluate(X_test, y_test, verbose=0)\n",
        "print('Test loss:', score[0])\n",
        "print('Test accuracy:', score[1])"
      ],
      "execution_count": 0,
      "outputs": []
    },
    {
      "cell_type": "markdown",
      "metadata": {
        "id": "aGXO4ceGcDWe",
        "colab_type": "text"
      },
      "source": [
        "# Plots"
      ]
    },
    {
      "cell_type": "code",
      "metadata": {
        "id": "upOA4-SZcDWf",
        "colab_type": "code",
        "colab": {}
      },
      "source": [
        "plt.plot(result.history['acc'])\n",
        "plt.plot(result.history['val_acc'])\n",
        "plt.title('model accuracy')\n",
        "plt.ylabel('accuracy')\n",
        "plt.xlabel('epoch')\n",
        "plt.legend(['train', 'test'], loc='upper left')\n",
        "plt.show()\n",
        "\n",
        "\n",
        "\n",
        "plt.plot(result.history['loss'])\n",
        "plt.plot(result.history['val_loss'])\n",
        "plt.title('model loss')\n",
        "plt.ylabel('loss')\n",
        "plt.xlabel('epoch')\n",
        "plt.legend(['train', 'test'], loc='upper left')\n",
        "plt.show()\n",
        "\n"
      ],
      "execution_count": 0,
      "outputs": []
    },
    {
      "cell_type": "code",
      "metadata": {
        "id": "y5lZ51djcDWh",
        "colab_type": "code",
        "colab": {
          "base_uri": "https://localhost:8080/",
          "height": 34
        },
        "outputId": "29ea8cc2-aae4-449a-cb36-d1b1d796937c"
      },
      "source": [
        "print(\"--- %s seconds ---\" % (time.time() - start_time))"
      ],
      "execution_count": 75,
      "outputs": [
        {
          "output_type": "stream",
          "text": [
            "--- 48.11880087852478 seconds ---\n"
          ],
          "name": "stdout"
        }
      ]
    },
    {
      "cell_type": "markdown",
      "metadata": {
        "id": "Ls-yHQPEcDWj",
        "colab_type": "text"
      },
      "source": [
        "# Analysis\n",
        "\n",
        "Model 3 performs in better than Model 1 but not as good as Model 2. The models seems to overfit after epoch 6. this evident from test and train accuracy as train accuracy is more than test. \n"
      ]
    },
    {
      "cell_type": "markdown",
      "metadata": {
        "id": "HKeZcwTFcDWj",
        "colab_type": "text"
      },
      "source": [
        "# Discuss about the choice of network structures and performance of it as you change the structures.\n",
        "\n",
        "\n",
        "In this assignment I have tried to implement three different neural network structures by making an inital model and then creating 2 more models by changing its parameters like activation function, no. of hidden units, optimizer,etc. \n",
        "\n",
        "From the above analysis, the performance is evident , Model 2 >Model 3> Model 1. Model 2 also uses least hidden nodes in its layers thus computation required is less than other two. Thus, by properly selecting the model tuning parameters and type of layers, higher accuracy can be achieved. \n",
        "\n",
        "\n",
        "\n",
        "\n"
      ]
    },
    {
      "cell_type": "markdown",
      "metadata": {
        "id": "-c0qkoBbcDWj",
        "colab_type": "text"
      },
      "source": [
        "# What do you think about the results?\n",
        "\n",
        "The results of the 3 models are not highly distinguishable. But the reason why I choose model 2 to be the best is that it beats overfitting and thus there is scope to increase no. of epochs and achieve higher accuracy. Also, Leaky Relu performs better for this dataset than 'relu' so if 'Leaky Relu ' is applied to Model 2, may be model 2 can yeild more accurate predictions. \n",
        "Overall, deep neural network is fiiting this dataset well compare to linear, non-linear classifires and 2-layer Neural Networks. \n",
        "As the results are highly dependent upon the choice of parameters, cross-validation should be employed in choosing the right set of parameters for the model. This would give the right combination and thus better predivction"
      ]
    },
    {
      "cell_type": "markdown",
      "metadata": {
        "id": "nUSu8wuDcDWk",
        "colab_type": "text"
      },
      "source": [
        "# Conclusions\n",
        "\n",
        "This assignment was helpful in getting a deeper understanding in Deep Learning. Also, I learned about the different deep learning structures and their importance. The main challenge was to decide upon the structures and the combination of parameters. \n"
      ]
    },
    {
      "cell_type": "code",
      "metadata": {
        "id": "A7fMgJwlcDWk",
        "colab_type": "code",
        "colab": {}
      },
      "source": [
        "# Extra Credit\n",
        "\n",
        "- [OPT 1] Test your program with GPUs and compare training speed. You can try [FloydHub](https://www.floydhub.com/) for free 2 hours of GPU resources or MAMBA cluster for this test. \n",
        "\n",
        "\n",
        "I have implemented the same code on Google Collab and I have got the following result:\n",
        "\n",
        "\n",
        "\n",
        "Jupyter Runtime\n",
        "70.449\n",
        "\n",
        "Google Colab Runtime\n",
        "50.662"
      ],
      "execution_count": 0,
      "outputs": []
    },
    {
      "cell_type": "code",
      "metadata": {
        "id": "bp3FvNT8cDWm",
        "colab_type": "code",
        "colab": {}
      },
      "source": [
        ""
      ],
      "execution_count": 0,
      "outputs": []
    }
  ]
}